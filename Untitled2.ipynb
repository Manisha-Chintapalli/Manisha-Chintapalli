{
  "nbformat": 4,
  "nbformat_minor": 0,
  "metadata": {
    "colab": {
      "provenance": [],
      "authorship_tag": "ABX9TyMYGYPxbEi0FLFyOoXe/Csq",
      "include_colab_link": true
    },
    "kernelspec": {
      "name": "python3",
      "display_name": "Python 3"
    },
    "language_info": {
      "name": "python"
    }
  },
  "cells": [
    {
      "cell_type": "markdown",
      "metadata": {
        "id": "view-in-github",
        "colab_type": "text"
      },
      "source": [
        "<a href=\"https://colab.research.google.com/github/Manisha-Chintapalli/Manisha-Chintapalli/blob/main/Untitled2.ipynb\" target=\"_parent\"><img src=\"https://colab.research.google.com/assets/colab-badge.svg\" alt=\"Open In Colab\"/></a>"
      ]
    },
    {
      "cell_type": "code",
      "execution_count": 1,
      "metadata": {
        "colab": {
          "base_uri": "https://localhost:8080/"
        },
        "id": "coWUk3TQUvvJ",
        "outputId": "8ffd03b7-1f3c-47ea-d7de-888c36ebfb8e"
      },
      "outputs": [
        {
          "output_type": "stream",
          "name": "stdout",
          "text": [
            "eneter a number15\n",
            "FIZZ BUZZ\n"
          ]
        }
      ],
      "source": [
        "number=int(input(\"eneter a number\"))\n",
        "if(number%5==0 and number%3==0):\n",
        "  print(\"FIZZ BUZZ\")\n",
        "elif(number%3==0):\n",
        "   print(\"FIZZ\")\n",
        "elif(number%5==0):\n",
        "  print(\"FUZZ\")"
      ]
    },
    {
      "cell_type": "code",
      "source": [
        "\n",
        "def bank_problem(log_msg):\n",
        "  result = 0\n",
        "  for msg in log_msg.split(' '):\n",
        "   if msg.split(':')[0] == 'D':\n",
        "      result += int(msg.split(':')[1])\n",
        "   else:\n",
        "    result -= int(msg.split(':')[1])\n",
        "  return result\n",
        "\n",
        "\n",
        "\n",
        "print(bank_problem(\"D:100 W:10\"))\n",
        "print(bank_problem(\"D:100 W:200 D:400\"))"
      ],
      "metadata": {
        "colab": {
          "base_uri": "https://localhost:8080/"
        },
        "id": "QIbtn4zFUxCm",
        "outputId": "a68eb7bd-c065-423a-f920-65c74c616179"
      },
      "execution_count": 24,
      "outputs": [
        {
          "output_type": "stream",
          "name": "stdout",
          "text": [
            "90\n",
            "300\n"
          ]
        }
      ]
    },
    {
      "cell_type": "code",
      "source": [
        "\n",
        "\n",
        "n=int(input(\"Enter a number of calls\"))\n",
        "\n",
        "Amount =200\n",
        "\n",
        "if(n<=100):\n",
        "\n",
        "  print(\"Bill Amount\",Amount)\n",
        "\n",
        "elif(n>=100 and n<=150):\n",
        "\n",
        "   print(Amount+(n%100)*0.60)\n",
        "\n",
        "elif(n>=150 and n<=200):\n",
        "\n",
        "   print(Amount+50*0.60+(n-150)*0.50)\n",
        "\n",
        "else:\n",
        "\n",
        "  print(Amount+50*0.60+50*0.50+(n-200)*0.40)"
      ],
      "metadata": {
        "colab": {
          "base_uri": "https://localhost:8080/"
        },
        "id": "j0jgmPGeU8Wo",
        "outputId": "05b3f9a8-fafe-4678-e780-abb96c51d40f"
      },
      "execution_count": 26,
      "outputs": [
        {
          "output_type": "stream",
          "name": "stdout",
          "text": [
            "Enter a number of calls23\n",
            "Bill Amount 200\n"
          ]
        }
      ]
    },
    {
      "cell_type": "code",
      "source": [],
      "metadata": {
        "id": "xCHsGoSrWBkT"
      },
      "execution_count": null,
      "outputs": []
    }
  ]
}