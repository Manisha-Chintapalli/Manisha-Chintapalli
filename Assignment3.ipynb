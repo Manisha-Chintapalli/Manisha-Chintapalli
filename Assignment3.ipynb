{
  "nbformat": 4,
  "nbformat_minor": 0,
  "metadata": {
    "colab": {
      "provenance": [],
      "authorship_tag": "ABX9TyNCVxiOJvToBQtn8licWlAb",
      "include_colab_link": true
    },
    "kernelspec": {
      "name": "python3",
      "display_name": "Python 3"
    },
    "language_info": {
      "name": "python"
    }
  },
  "cells": [
    {
      "cell_type": "markdown",
      "metadata": {
        "id": "view-in-github",
        "colab_type": "text"
      },
      "source": [
        "<a href=\"https://colab.research.google.com/github/Manisha-Chintapalli/Manisha-Chintapalli/blob/main/Assignment3.ipynb\" target=\"_parent\"><img src=\"https://colab.research.google.com/assets/colab-badge.svg\" alt=\"Open In Colab\"/></a>"
      ]
    },
    {
      "cell_type": "code",
      "execution_count": null,
      "metadata": {
        "id": "mxHnHWG07N3q"
      },
      "outputs": [],
      "source": [
        "n=int(input(\"Enter a number of calls\"))\n",
        "Amount =200\n",
        "if(n<=100):\n",
        "  print(\"Bill Amount\",Amount)\n",
        "elif(n>=100 and n<=150):\n",
        "   print(Amount+(n*100)*0.60)\n",
        "elif(n>=150 and n<=200):\n",
        "   print(Amount+50*0.60+(n-150)*0.50)\n",
        "else:\n",
        "  print(Amount+50*0.60+50*0.50+(n-200)*0.40)"
      ]
    }
  ]
}