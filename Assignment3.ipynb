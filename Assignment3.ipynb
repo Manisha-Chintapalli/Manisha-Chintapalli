{
  "nbformat": 4,
  "nbformat_minor": 0,
  "metadata": {
    "colab": {
      "provenance": [],
      "authorship_tag": "ABX9TyOcwfc1EtVHkbCriZMOOtNF",
      "include_colab_link": true
    },
    "kernelspec": {
      "name": "python3",
      "display_name": "Python 3"
    },
    "language_info": {
      "name": "python"
    }
  },
  "cells": [
    {
      "cell_type": "markdown",
      "metadata": {
        "id": "view-in-github",
        "colab_type": "text"
      },
      "source": [
        "<a href=\"https://colab.research.google.com/github/Manisha-Chintapalli/Manisha-Chintapalli/blob/main/Assignment3.ipynb\" target=\"_parent\"><img src=\"https://colab.research.google.com/assets/colab-badge.svg\" alt=\"Open In Colab\"/></a>"
      ]
    },
    {
      "cell_type": "code",
      "execution_count": null,
      "metadata": {
        "colab": {
          "base_uri": "https://localhost:8080/"
        },
        "id": "0i8a353LoPZQ",
        "outputId": "c47bda14-7e68-4c47-b61c-20894459b1ef"
      },
      "outputs": [
        {
          "output_type": "stream",
          "name": "stdout",
          "text": [
            "20\n"
          ]
        }
      ],
      "source": [
        "def Sum_list(numbers):\n",
        "\n",
        "  total=sum(numbers)\n",
        "\n",
        "  return total\n",
        "\n",
        "Given_list=[8,2,3,0,7]\n",
        "\n",
        "result=Sum_list(Given_list)\n",
        "\n",
        "print(result)"
      ]
    },
    {
      "cell_type": "code",
      "source": [
        "def Reverse_String(string):\n",
        "\n",
        "  Reversed_String=string[::-1]\n",
        "\n",
        "  return Reversed_String\n",
        "\n",
        "input_string=input(\"Enter a string: \")\n",
        "\n",
        "#input_String=\"1234abcd\"\n",
        "\n",
        "Reversed_String=Reverse_String(input_string)\n",
        "\n",
        "print(\"Reversed string::\",Reversed_String)"
      ],
      "metadata": {
        "colab": {
          "base_uri": "https://localhost:8080/"
        },
        "id": "4zpDALDwomy1",
        "outputId": "bb73d329-ff8b-4b6b-8468-0e28064ad97e"
      },
      "execution_count": null,
      "outputs": [
        {
          "output_type": "stream",
          "name": "stdout",
          "text": [
            "Enter a string: manisha\n",
            "Reversed string:: ahsinam\n"
          ]
        }
      ]
    },
    {
      "cell_type": "code",
      "source": [
        "def Count_Upper_Lower(string):\n",
        "\n",
        "  Upper_Count=0\n",
        "\n",
        "  Lower_Count=0\n",
        "  for char in string:\n",
        "\n",
        "    if char.isupper():\n",
        "      Upper_Count +=1\n",
        "\n",
        "    elif char.islower():\n",
        "\n",
        "      Lower_Count +=1\n",
        "\n",
        "  return Upper_Count,Lower_Count\n",
        "\n",
        "text=input(\"Enter string to check:: \")\n",
        "\n",
        "Upper,Lower=Count_Upper_Lower(text)\n",
        "\n",
        "print(\"UpperCase count::\",Upper)\n",
        "\n",
        "print(\"LowerCase count::\",Lower)"
      ],
      "metadata": {
        "colab": {
          "base_uri": "https://localhost:8080/"
        },
        "id": "ztgD9SNQohDd",
        "outputId": "a5cd8b0c-0228-4eb8-dbb4-924b7e9f64e1"
      },
      "execution_count": null,
      "outputs": [
        {
          "output_type": "stream",
          "name": "stdout",
          "text": [
            "Enter string to check:: Manisha\n",
            "UpperCase count:: 1\n",
            "LowerCase count:: 6\n"
          ]
        }
      ]
    },
    {
      "cell_type": "code",
      "source": [],
      "metadata": {
        "id": "pZCwqU37sJL6"
      },
      "execution_count": null,
      "outputs": []
    }
  ]
}