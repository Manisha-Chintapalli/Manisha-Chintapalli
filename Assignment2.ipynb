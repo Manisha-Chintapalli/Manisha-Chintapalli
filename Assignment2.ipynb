{
  "nbformat": 4,
  "nbformat_minor": 0,
  "metadata": {
    "colab": {
      "provenance": [],
      "authorship_tag": "ABX9TyPfBgfwgMmMdSag+l8Gzzs8",
      "include_colab_link": true
    },
    "kernelspec": {
      "name": "python3",
      "display_name": "Python 3"
    },
    "language_info": {
      "name": "python"
    }
  },
  "cells": [
    {
      "cell_type": "markdown",
      "metadata": {
        "id": "view-in-github",
        "colab_type": "text"
      },
      "source": [
        "<a href=\"https://colab.research.google.com/github/Manisha-Chintapalli/Manisha-Chintapalli/blob/main/Assignment2.ipynb\" target=\"_parent\"><img src=\"https://colab.research.google.com/assets/colab-badge.svg\" alt=\"Open In Colab\"/></a>"
      ]
    },
    {
      "cell_type": "code",
      "execution_count": null,
      "metadata": {
        "colab": {
          "base_uri": "https://localhost:8080/"
        },
        "id": "tBD2uNAHXulG",
        "outputId": "22b787bf-10b8-4e72-c12c-c44b076e703d"
      },
      "outputs": [
        {
          "output_type": "stream",
          "name": "stdout",
          "text": [
            "['view.jpg', 'bear.jpg', 'ball.png']\n",
            "After inserting an element at first location ['phone.jpg', 'view.jpg', 'bear.jpg', 'ball.png']\n",
            "['phone.jpg', 'view.jpg', 'bear.jpg', 'ball.png']\n",
            "expected Output is  ['phone.jpg', 'view.jpg', 'bear.jpg']\n"
          ]
        }
      ],
      "source": [
        "#Program1\n",
        "filename1=['view.jpg','bear.jpg','ball.png']\n",
        "print(filename1)\n",
        "filename1.insert(0,\"phone.jpg\")\n",
        "print(\"After inserting an element at first location\",filename1)\n",
        "print(filename1)\n",
        "filename1.pop()\n",
        "print(\"expected Output is \",filename1)"
      ]
    },
    {
      "cell_type": "code",
      "source": [
        "list=[]\n",
        "n = int(input(\"Enter the length of your list: \"))\n",
        "for i in range (1,n+1):\n",
        "  a=int(input(\"Enter the %d number: \" %i ))\n",
        "  list.append(a)\n",
        "min1=list[0]\n",
        "max1=list[0]\n",
        "# average=sum(list)//n\n",
        "for i in range(1,n):\n",
        "  if max1<list[i]:\n",
        "    max1=list[i]\n",
        "  if min1>list[i]:\n",
        "    min1=list[i]\n",
        "sum_of_list=0\n",
        "for i in list:\n",
        "  sum_of_list+=i\n",
        "average=sum_of_list//n\n",
        "print(\" %d is the Maximum number \" %max1)\n",
        "print(\" %d is the Minimum number \" %min1)\n",
        "print(\" %d is the average element in a list \" %average)"
      ],
      "metadata": {
        "colab": {
          "base_uri": "https://localhost:8080/"
        },
        "id": "C8S26T1nXvX9",
        "outputId": "987bd20f-62b4-44a3-c477-5fef24b42f2a"
      },
      "execution_count": null,
      "outputs": [
        {
          "output_type": "stream",
          "name": "stdout",
          "text": [
            "Enter the length of your list: 3\n",
            "Enter the 1 number: 12\n",
            "Enter the 2 number: 20\n",
            "Enter the 3 number: 30\n",
            " 30 is the Maximum number \n",
            " 12 is the Minimum number \n",
            " 20 is the average element in a list \n"
          ]
        }
      ]
    },
    {
      "cell_type": "code",
      "source": [
        "content = [21, 26, 37, 94]\n",
        "content.append([75, 62, 79])\n",
        "print(content)"
      ],
      "metadata": {
        "colab": {
          "base_uri": "https://localhost:8080/"
        },
        "id": "Lanj-E5JWEWO",
        "outputId": "16fade9b-6046-4ce8-e063-ad13ff0179e8"
      },
      "execution_count": null,
      "outputs": [
        {
          "output_type": "stream",
          "name": "stdout",
          "text": [
            "[21, 26, 37, 94, [75, 62, 79]]\n"
          ]
        }
      ]
    },
    {
      "cell_type": "code",
      "source": [
        "content = [21, 26, 37, 94]\n",
        "content.extend([75, 62, 79])\n",
        "print(content)"
      ],
      "metadata": {
        "colab": {
          "base_uri": "https://localhost:8080/"
        },
        "id": "AXWOQV3pZEgF",
        "outputId": "ed1280bd-294e-4961-a724-9d7202b1dc40"
      },
      "execution_count": null,
      "outputs": [
        {
          "output_type": "stream",
          "name": "stdout",
          "text": [
            "[21, 26, 37, 94, 75, 62, 79]\n"
          ]
        }
      ]
    },
    {
      "cell_type": "code",
      "source": [
        "content = [21, 26, 37, 94]\n",
        "content.append((75, 62, 79) )\n",
        "print(content[4])"
      ],
      "metadata": {
        "colab": {
          "base_uri": "https://localhost:8080/"
        },
        "id": "mpeRKgh4WL-b",
        "outputId": "d1c7e0d2-2ffb-4a17-c44a-38110683a012"
      },
      "execution_count": null,
      "outputs": [
        {
          "output_type": "stream",
          "name": "stdout",
          "text": [
            "(75, 62, 79)\n"
          ]
        }
      ]
    },
    {
      "cell_type": "code",
      "source": [
        "content = [21, 26, 37, 94]\n",
        "content.append( (75, 62, 79) )\n",
        "print(len(content))"
      ],
      "metadata": {
        "colab": {
          "base_uri": "https://localhost:8080/"
        },
        "id": "ZmTW3kBmWRnV",
        "outputId": "7449baef-abe2-4923-c6ed-e9bf4bfe3235"
      },
      "execution_count": null,
      "outputs": [
        {
          "output_type": "stream",
          "name": "stdout",
          "text": [
            "5\n"
          ]
        }
      ]
    },
    {
      "cell_type": "code",
      "source": [],
      "metadata": {
        "id": "6Dgp5GJnWiKa"
      },
      "execution_count": null,
      "outputs": []
    },
    {
      "cell_type": "code",
      "source": [],
      "metadata": {
        "id": "zhwqyyymWmkx"
      },
      "execution_count": null,
      "outputs": []
    },
    {
      "cell_type": "code",
      "source": [],
      "metadata": {
        "id": "qgFDKiuaW2rJ"
      },
      "execution_count": null,
      "outputs": []
    },
    {
      "cell_type": "code",
      "source": [],
      "metadata": {
        "id": "dlDFJW1wW5vW"
      },
      "execution_count": null,
      "outputs": []
    },
    {
      "cell_type": "code",
      "source": [],
      "metadata": {
        "id": "wRDPwzbBW_gG"
      },
      "execution_count": null,
      "outputs": []
    },
    {
      "cell_type": "code",
      "source": [],
      "metadata": {
        "id": "5mnW1J3qXCgQ"
      },
      "execution_count": null,
      "outputs": []
    }
  ]
}